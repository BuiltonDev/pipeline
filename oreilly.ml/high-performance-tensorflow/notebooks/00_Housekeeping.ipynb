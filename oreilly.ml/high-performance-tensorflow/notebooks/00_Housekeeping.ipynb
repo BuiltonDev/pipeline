{
 "cells": [
  {
   "cell_type": "markdown",
   "metadata": {},
   "source": [
    "# Housekeeping\n",
    "Code Updates, Links to GitHub Repo, Meetups, and Upcoming O'Reilly Classes"
   ]
  },
  {
   "cell_type": "markdown",
   "metadata": {},
   "source": [
    "### Pull Latest Code from GitHub!"
   ]
  },
  {
   "cell_type": "code",
   "execution_count": null,
   "metadata": {},
   "outputs": [],
   "source": [
    "%%bash\n",
    "\n",
    "pull"
   ]
  },
  {
   "cell_type": "markdown",
   "metadata": {},
   "source": [
    "## Code, Notebooks, Docker Images\n",
    "\n",
    "### Please STAR this GitHub Repo!!\n",
    "\n",
    "https://github.com/fluxcapacitor/pipeline/oreilly.ml/high-performance-tensorflow/"
   ]
  },
  {
   "cell_type": "markdown",
   "metadata": {},
   "source": [
    "## Advanced Spark and TensorFlow Meetup\n",
    "\n",
    "### Please Join Us!!\n",
    "\n",
    "https://www.meetup.com/Advanced-Spark-and-TensorFlow-Meetup/"
   ]
  },
  {
   "cell_type": "markdown",
   "metadata": {},
   "source": [
    "## Next Runs of this Class\n",
    "\n",
    "### Please Tell Your Friends, Co-Workers, and Family!!\n",
    "\n",
    "https://www.safaribooksonline.com/live-training/courses/high-performance-tensorflow-in-production/0636920073727/\n",
    "\n",
    "https://www.safaribooksonline.com/live-training/courses/high-performance-tensorflow-in-production/0636920082859/"
   ]
  }
 ],
 "metadata": {
  "kernelspec": {
   "display_name": "Python [default]",
   "language": "python",
   "name": "python3"
  },
  "language_info": {
   "codemirror_mode": {
    "name": "ipython",
    "version": 3
   },
   "file_extension": ".py",
   "mimetype": "text/x-python",
   "name": "python",
   "nbconvert_exporter": "python",
   "pygments_lexer": "ipython3",
   "version": "3.5.3"
  }
 },
 "nbformat": 4,
 "nbformat_minor": 2
}
