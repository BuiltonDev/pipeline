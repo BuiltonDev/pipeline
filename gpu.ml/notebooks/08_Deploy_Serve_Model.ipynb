{
 "cells": [
  {
   "cell_type": "markdown",
   "metadata": {},
   "source": [
    "# Deploy and Serve Model with TensorFlow Serving"
   ]
  },
  {
   "cell_type": "markdown",
   "metadata": {},
   "source": [
    "## Open a Terminal through Jupyter Notebook \n",
    "### (Menu Bar -> Terminal -> New Terminal)\n",
    "![Jupyter Terminal](https://s3.amazonaws.com/fluxcapacitor.com/img/jupyter-terminal.png)\n"
   ]
  },
  {
   "cell_type": "markdown",
   "metadata": {},
   "source": [
    "## Run the Following Command in Terminal to Start Tensorflow Serving\n",
    "\n",
    "`serve 9000 linear /root/models/linear/cpu/ true`\n",
    "\n",
    "The params are as follows:\n",
    "* `1: port number (int)`\n",
    "\n",
    "* `2: model_name (anything)`\n",
    "\n",
    "* `3: /path/to/model (base path above all version sub-directories)`\n",
    "\n",
    "* `4: request batching (true|false)`\n",
    "\n"
   ]
  },
  {
   "cell_type": "markdown",
   "metadata": {},
   "source": [
    "## Open a 2nd Terminal through Jupyter Notebook \n",
    "### (Menu Bar -> Terminal -> New Terminal)\n",
    "![Jupyter Terminal](https://s3.amazonaws.com/fluxcapacitor.com/img/jupyter-terminal.png)\n"
   ]
  },
  {
   "cell_type": "markdown",
   "metadata": {},
   "source": [
    "## Run the Following Command in Terminal to Start HTTP-GRPC Proxy\n",
    "\n",
    "`http_grpc_proxy 9004 9000`\n",
    "\n",
    "The params are as follows:\n",
    "* `1: port for this proxy to listen on`\n",
    "* `2: port of Tensorflow Serving`"
   ]
  },
  {
   "cell_type": "markdown",
   "metadata": {},
   "source": [
    "## Open a 3rd Terminal through Jupyter Notebook \n",
    "### (Menu Bar -> Terminal -> New Terminal)\n",
    "![Jupyter Terminal](https://s3.amazonaws.com/fluxcapacitor.com/img/jupyter-terminal.png)\n"
   ]
  },
  {
   "cell_type": "markdown",
   "metadata": {},
   "source": [
    "## Run the Following Command in Terminal to Start HTTP-GRPC Proxy\n",
    "\n",
    "`predict 9004 1.5`\n",
    "\n",
    "The params are as follows:\n",
    "* `1: port for http-grpc proxy`\n",
    "* `2: x_observed`"
   ]
  },
  {
   "cell_type": "code",
   "execution_count": null,
   "metadata": {},
   "outputs": [],
   "source": []
  }
 ],
 "metadata": {
  "kernelspec": {
   "display_name": "Python [default]",
   "language": "python",
   "name": "python3"
  },
  "language_info": {
   "codemirror_mode": {
    "name": "ipython",
    "version": 3
   },
   "file_extension": ".py",
   "mimetype": "text/x-python",
   "name": "python",
   "nbconvert_exporter": "python",
   "pygments_lexer": "ipython3",
   "version": "3.5.3"
  }
 },
 "nbformat": 4,
 "nbformat_minor": 2
}
