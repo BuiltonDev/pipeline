{
 "cells": [
  {
   "cell_type": "markdown",
   "metadata": {},
   "source": [
    "# Feed Dataset through Queue to Tensorflow from HDFS"
   ]
  },
  {
   "cell_type": "markdown",
   "metadata": {},
   "source": [
    "## Populate HDFS with Sample Dataset"
   ]
  },
  {
   "cell_type": "code",
   "execution_count": 20,
   "metadata": {},
   "outputs": [
    {
     "name": "stderr",
     "output_type": "stream",
     "text": [
      "copyFromLocal: `/linear/training.csv': File exists\n",
      "copyFromLocal: `/linear/validation.csv': File exists\n"
     ]
    }
   ],
   "source": [
    "%%bash\n",
    "\n",
    "hadoop fs -copyFromLocal /root/datasets/linear /"
   ]
  },
  {
   "cell_type": "code",
   "execution_count": 21,
   "metadata": {},
   "outputs": [
    {
     "name": "stdout",
     "output_type": "stream",
     "text": [
      "Found 4 items\n",
      "-rw-r--r--   3 root supergroup    5000000 2017-05-08 01:38 /linear/test.csv\n",
      "-rw-r--r--   3 root supergroup    5000000 2017-05-08 01:38 /linear/train.csv\n",
      "-rw-r--r--   3 root supergroup    5000000 2017-05-08 01:38 /linear/training.csv\n",
      "-rw-r--r--   3 root supergroup    5000000 2017-05-08 01:38 /linear/validation.csv\n"
     ]
    }
   ],
   "source": [
    "%%bash\n",
    "\n",
    "hadoop fs -ls /linear"
   ]
  },
  {
   "cell_type": "markdown",
   "metadata": {},
   "source": [
    "## Feed TensorFlow from HDFS through a `FIFOQueue`\n",
    "`tf.train.string_input_producer()` uses `tf.FIFOQueue` internally."
   ]
  },
  {
   "cell_type": "code",
   "execution_count": 60,
   "metadata": {},
   "outputs": [
    {
     "name": "stdout",
     "output_type": "stream",
     "text": [
      "First 10:\n",
      "\n",
      "[ 0.95979553  0.39002556]\n",
      "[ 0.00741443  0.29535058]\n",
      "[ 0.3858389   0.34356433]\n",
      "[ 0.1863874   0.30246931]\n",
      "[ 0.52435893  0.34973004]\n",
      "[ 0.59856516  0.34064981]\n",
      "[ 0.94997454  0.39089239]\n",
      "[ 0.7457779   0.37103787]\n",
      "[ 0.65097833  0.35566217]\n",
      "[ 0.58418411  0.36767057]\n"
     ]
    }
   ],
   "source": [
<<<<<<< HEAD
    "### Show TensorFlow-HDFS Code"
=======
    "import tensorflow as tf\n",
    "import numpy as np\n",
    "\n",
    "hdfs_queue = tf.train.string_input_producer([\n",
    "    \"hdfs://127.0.0.1:39000/linear/training.csv\",\n",
    "])\n",
    "\n",
    "reader = tf.TextLineReader()\n",
    "_, value = reader.read(hdfs_queue)\n",
    "x_observed, y_observed = tf.decode_csv(value, [[0.0],[0.0]])\n",
    "\n",
    "with tf.Session() as sess:\n",
    "    coord = tf.train.Coordinator()\n",
    "    threads = tf.train.start_queue_runners(coord=coord,\n",
    "                                           sess=sess)\n",
    "    try:\n",
    "        n = 10\n",
    "        print(\"First %d:\\n\" % n)\n",
    "        for _ in range(n):\n",
    "            x, y = sess.run([x_observed, y_observed])\n",
    "            print(np.asarray([x, y]))\n",
    "    finally:\n",
    "        coord.request_stop()\n",
    "        coord.join(threads)"
   ]
  },
  {
   "cell_type": "markdown",
   "metadata": {},
   "source": [
    "## Feed Batched Data from HDFS to TensorFlow\n",
    "`tf.train.batch` uses `tf.FIFOQueue` internally - similar to `tf.train.string_input_producer()`\n",
    "\n",
    "`capacity` must be larger than `min_after_dequeue`.  The difference in size becomes the prefetch maximum.\n",
    "\n",
    "`capacity` = `batch_size` * `num_threads`"
>>>>>>> fluxcapacitor/master
   ]
  },
  {
   "cell_type": "code",
   "execution_count": 65,
   "metadata": {},
   "outputs": [
    {
     "name": "stdout",
     "output_type": "stream",
     "text": [
      "Batch:\n",
      "\n",
      "[ 0.95979553  0.1863874   0.3858389   0.52435893  0.59856516  0.00741443\n",
      "  0.94997454  0.65097833  0.22963113  0.7457779 ] [ 0.39002556  0.30246931  0.34356433  0.34973004  0.34064981  0.29535058\n",
      "  0.39089239  0.35566217  0.29871479  0.37103787]\n"
     ]
    }
   ],
   "source": [
    "import tensorflow as tf\n",
    "\n",
    "hdfs_queue = tf.train.string_input_producer([\n",
    "    \"hdfs://127.0.0.1:39000/linear/training.csv\",\n",
    "])\n",
    "\n",
    "reader = tf.TextLineReader()\n",
    "_, value = reader.read(hdfs_queue)\n",
    "x_observed, y_observed = tf.decode_csv(value, [[0.0],[0.0]])\n",
    "\n",
    "x_observed_batch, y_observed_batch = \\\n",
    "    tf.train.batch([x_observed, y_observed], \n",
    "                            batch_size=10,\n",
    "                            capacity=80,\n",
    "                            num_threads=8)\n",
    "    \n",
    "with tf.Session() as sess:\n",
    "    coord = tf.train.Coordinator()\n",
    "    threads = tf.train.start_queue_runners(coord=coord,\n",
    "                                           sess=sess)\n",
    "    try:\n",
    "        print(\"Batch:\\n\")\n",
    "        x, y = sess.run([x_observed_batch, y_observed_batch])\n",
    "        print(x, y)\n",
    "    finally:\n",
    "        coord.request_stop()\n",
    "        coord.join(threads)"
   ]
  },
  {
   "cell_type": "markdown",
   "metadata": {},
   "source": [
<<<<<<< HEAD
    "## Open a Terminal through Jupyter Notebook \n",
    "### (Menu Bar -> Terminal -> New Terminal)\n",
    "![Jupyter Terminal](https://s3.amazonaws.com/fluxcapacitor.com/img/jupyter-terminal.png)"
   ]
  },
  {
   "cell_type": "markdown",
   "metadata": {},
   "source": [
    "## Run the following in the Terminal\n",
    "```\n",
    "queue_hdfs\n",
    "```\n",
    "_Note:  This will error out in the notebook.  You must run from Terminal!_"
=======
    "## Feed Shuffled Batch Data from HDFS to TensorFlow\n",
    "`tf.train.shuffle_batch` uses `tf.RandomShuffleQueue` internally.\n",
    "\n",
    "`min_after_dequeue` defines the buffer size when randomly sampling.  Larger buffers require more RAM, but provide better shuffling characteristics.\n",
    "\n",
    "`capacity` must be larger than `min_after_dequeue`.  The difference in size becomes the prefetch maximum.\n",
    "\n",
    "`capacity` = `batch_size` * (`num_threads` + `some_safety_margin`) + `min_after_dequeue`"
>>>>>>> fluxcapacitor/master
   ]
  },
  {
   "cell_type": "code",
<<<<<<< HEAD
   "execution_count": null,
   "metadata": {},
   "outputs": [],
   "source": [
    "%%bash\n",
    "\n",
    "cat /root/scripts/queue_hdfs"
=======
   "execution_count": 30,
   "metadata": {},
   "outputs": [
    {
     "name": "stdout",
     "output_type": "stream",
     "text": [
      "Shuffled batch:\n",
      "\n",
      "[ 0.65097833  0.94997454  0.16309556  0.58418411  0.59856516  0.3858389\n",
      "  0.22963113  0.00741443  0.83741975  0.82964957] [ 0.35566217  0.39089239  0.31556964  0.36767057  0.34064981  0.34356433\n",
      "  0.29871479  0.29535058  0.38860601  0.38306496]\n"
     ]
    }
   ],
   "source": [
    "import tensorflow as tf\n",
    "\n",
    "shuffled_hdfs_queue = tf.train.string_input_producer([\n",
    "    \"hdfs://127.0.0.1:39000/linear/training.csv\",\n",
    "])\n",
    "\n",
    "reader = tf.TextLineReader()\n",
    "_, value = reader.read(shuffled_hdfs_queue)\n",
    "x_observed, y_observed = tf.decode_csv(value, [[0.0],[0.0]])\n",
    "\n",
    "x_observed_shuffled_batch, y_observed_shuffled_batch = \\\n",
    "    tf.train.shuffle_batch([x_observed, y_observed], \n",
    "                            batch_size=10,\n",
    "                            capacity=100,\n",
    "                            min_after_dequeue=10,\n",
    "                            num_threads=8)\n",
    "\n",
    "with tf.Session() as sess:\n",
    "    coord = tf.train.Coordinator()\n",
    "    threads = tf.train.start_queue_runners(coord=coord,\n",
    "                                           sess=sess)\n",
    "    try:\n",
    "        print(\"Shuffled batch:\\n\")\n",
    "        x, y = sess.run([x_observed_shuffled_batch, y_observed_shuffled_batch])\n",
    "        print(x, y)\n",
    "    finally:\n",
    "        coord.request_stop()\n",
    "        coord.join(threads)"
>>>>>>> fluxcapacitor/master
   ]
  },
  {
   "cell_type": "code",
   "execution_count": null,
   "metadata": {},
   "outputs": [],
   "source": []
  }
 ],
 "metadata": {
  "kernelspec": {
   "display_name": "Python [default]",
   "language": "python",
   "name": "python3"
  },
  "language_info": {
   "codemirror_mode": {
    "name": "ipython",
    "version": 3
   },
   "file_extension": ".py",
   "mimetype": "text/x-python",
   "name": "python",
   "nbconvert_exporter": "python",
   "pygments_lexer": "ipython3",
   "version": "3.5.3"
  }
 },
 "nbformat": 4,
 "nbformat_minor": 2
}
